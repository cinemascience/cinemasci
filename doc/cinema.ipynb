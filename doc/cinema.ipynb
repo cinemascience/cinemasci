{
    "cells": [
        {
        "cell_type": "code",
        "execution_count": 1,
        "metadata": {},
        "outputs": [],
        "source": [
            "import cinemasci.pynb\n",
            "\n",
            "cdb_path = \"yourdata.cdb\"\n",
            "viewer = cinemasci.pynb.CinemaViewer()\n",
            "viewer.load(cdb_path)\n",
            "viewer.setLayoutToHorizontal()\n",
            "viewer.setUIValues({'image size': 500})"
        ]
        }
    ],
    "metadata": {},
    "nbformat": 4,
    "nbformat_minor": 2
}
