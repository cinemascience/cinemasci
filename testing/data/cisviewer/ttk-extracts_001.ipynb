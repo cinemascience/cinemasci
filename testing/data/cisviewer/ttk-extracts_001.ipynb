{
 "cells": [
  {
   "cell_type": "code",
   "execution_count": 3,
   "metadata": {},
   "outputs": [],
   "source": [
    "import cinemasci\n",
    "import cinemasci.cdb\n",
    "import cinemasci.cis\n",
    "import cinemasci.pynb\n",
    "from cinemasci.cis.renderer import Renderer\n",
    "%matplotlib inline\n",
    "\n",
    "# read cinema database\n",
    "cdb = cinemasci.cdb.cdb(\"ttk_extracts_001.cdb\")\n",
    "cdb.read_data_from_file()\n",
    "cdb.set_extract_parameter_names([\"FILE\"])\n",
    "\n",
    "# create the cis view and an image view\n",
    "cview = cinemasci.cis.cdbview.cdbview(cdb)\n",
    "iview = cinemasci.cis.imageview.imageview(cview)\n",
    "iview.background = [0.5, 0.5, 0.5]\n",
    "\n",
    "# set the image view state\n",
    "iview.use_depth = \"True\"\n",
    "iview.image = \"i000\"\n",
    "iview.activate_layer(\"l000\")\n",
    "iview.activate_channel(\"l000\", \"Elevation\")\n",
    "iview.activate_layer(\"l001\")\n",
    "iview.activate_channel(\"l001\", \"Elevation\")\n",
    "\n",
    "# display the viewer\n",
    "viewer = cinemasci.pynb.cis.image.CISImageViewer(cview)\n",
    "viewer.title = \"Single Image of Diffusion Simulation\"\n",
    "viewer.size = (10, 3.5)\n", 
    "viewer.widths = [2]\n", 
    "viewer.height = [0.5]\n", 
    "viewer.display(iview)\n"
   ]
  },
  {
   "cell_type": "code",
   "execution_count": null,
   "metadata": {},
   "outputs": [],
   "source": []
  }
 ],
 "metadata": {
  "kernelspec": {
   "display_name": "Python 3",
   "language": "python",
   "name": "python3"
  },
  "language_info": {
   "codemirror_mode": {
    "name": "ipython",
    "version": 3
   },
   "file_extension": ".py",
   "mimetype": "text/x-python",
   "name": "python",
   "nbconvert_exporter": "python",
   "pygments_lexer": "ipython3",
   "version": "3.7.2"
  }
 },
 "nbformat": 4,
 "nbformat_minor": 2
}
