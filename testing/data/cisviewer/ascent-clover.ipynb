{
 "cells": [
  {
   "cell_type": "code",
   "execution_count": null,
   "metadata": {},
   "outputs": [],
   "source": [
    "import cinemasci\n",
    "import cinemasci.cdb\n",
    "import cinemasci.cis\n",
    "import cinemasci.pynb\n",
    "\n",
    "# read cinema database\n",
    "cdb = cinemasci.cdb.cdb(\"pantheon_ascent-clover.cdb\")\n",
    "cdb.read_data_from_file()\n",
    "cdb.set_extract_parameter_names([\"FILE\"])\n",
    "\n",
    "# create the cis view and an image view\n",
    "cview = cinemasci.cis.cdbview.cdbview(cdb)\n",
    "iview = cinemasci.cis.imageview.imageview(cview)\n",
    "iview.background = [0.8, 0.8, 0.9]\n",
    "\n",
    "# set the image view state\n",
    "iview.image = \"cycle_000100\"\n",
    "# iview.image = \"cycle_000110\"\n",
    "iview.use_depth = True\n",
    "iview.use_shadow = False\n",
    "iview.activate_layer(\"layer0\")\n",
    "iview.activate_channel(\"layer0\", \"density\")\n",
    "\n",
    "# display density\n",
    "viewer = cinemasci.pynb.cis.histogram.CISHistogramViewer(cview)\n",
    "viewer.title = \"\"\n",
    "viewer.right_label = \"histogram of density\"\n",
    "viewer.size = (10, 3.5)\n",
    "viewer.widths = [5, 2]\n",
    "\n",
    "#display density\n",
    "viewer.left_label = \"density\"\n",
    "iview.activate_channel(\"layer0\", \"density\")\n",
    "viewer.right_label = \"histogram of density\"\n",
    "viewer.display(iview, \"layer0\")\n",
    "\n",
    "# display energy\n",
    "viewer.left_label = \"energy\"\n",
    "iview.activate_channel(\"layer0\", \"energy\")\n",
    "viewer.right_label = \"histogram of energy\"\n",
    "viewer.display(iview, \"layer0\")\n",
    "\n",
    "# display pressure\n",
    "viewer.left_label = \"pressure\"\n",
    "iview.activate_channel(\"layer0\", \"pressure\")\n",
    "viewer.right_label = \"histogram of pressure\"\n",
    "viewer.display(iview, \"layer0\")\n"
   ]
  }
 ],
 "metadata": {
  "kernelspec": {
   "display_name": "Python 3",
   "language": "python",
   "name": "python3"
  },
  "language_info": {
   "codemirror_mode": {
    "name": "ipython",
    "version": 3
   },
   "file_extension": ".py",
   "mimetype": "text/x-python",
   "name": "python",
   "nbconvert_exporter": "python",
   "pygments_lexer": "ipython3",
   "version": "3.7.2"
  }
 },
 "nbformat": 4,
 "nbformat_minor": 2
}
