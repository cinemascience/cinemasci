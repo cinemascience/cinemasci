{
 "cells": [
  {
   "cell_type": "code",
   "execution_count": 3,
   "metadata": {},
   "outputs": [],
   "source": [
    "import cinemasci\n",
    "import cinemasci.cdb\n",
    "import cinemasci.cis\n",
    "import cinemasci.pynb\n",
    "from cinemasci.cis.renderer import Renderer\n",
    "%matplotlib inline\n",
    "\n",
    "# read cinema database\n",
    "cdb = cinemasci.cdb.cdb(\"ttk_extracts.cdb\")\n",
    "cdb.read_data_from_file()\n",
    "cdb.set_extract_parameter_names([\"FILE\"])\n",
    "\n",
    "# create the cis view and an image view\n",
    "cview = cinemasci.cis.cdbview.cdbview(cdb)\n",
    "iview = cinemasci.cis.imageview.imageview(cview)\n",
    "iview.background = [0.5, 0.5, 0.5]\n",
    "\n",
    "# set the image view state\n",
    "iview.image = \"image0\"\n",
    "iview.activate_layer(\"layer0\")\n",
    "iview.activate_channel(\"layer0\", \"elevation\")\n",
    "\n",
    "# load data into the image view\n",
    "iview.update()\n",
    "\n",
    "# create a histogram of the current channel\n",
    "import numpy\n",
    "from matplotlib import pyplot as plt\n",
    "layers = iview.get_layer_data()\n",
    "cdata = layers['layer0'].channel.data\n",
    "plt.hist(cdata[~numpy.isnan(cdata)], 50)\n",
    "plt.show()\n",
    "\n",
    "# render the image view\n",
    "(image, depth) = Renderer.render(iview)\n",
    "\n",
    "# display the rendered image\n",
    "viewer = cinemasci.pynb.cis.CISViewer(cview)\n",
    "viewer.display(image)\n"
   ]
  },
  {
   "cell_type": "code",
   "execution_count": null,
   "metadata": {},
   "outputs": [],
   "source": []
  }
 ],
 "metadata": {
  "kernelspec": {
   "display_name": "Python 3",
   "language": "python",
   "name": "python3"
  },
  "language_info": {
   "codemirror_mode": {
    "name": "ipython",
    "version": 3
   },
   "file_extension": ".py",
   "mimetype": "text/x-python",
   "name": "python",
   "nbconvert_exporter": "python",
   "pygments_lexer": "ipython3",
   "version": "3.7.2"
  }
 },
 "nbformat": 4,
 "nbformat_minor": 2
}
